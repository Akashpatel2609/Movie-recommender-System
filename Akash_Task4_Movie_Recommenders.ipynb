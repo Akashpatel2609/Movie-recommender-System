{
 "cells": [
  {
   "cell_type": "markdown",
   "metadata": {},
   "source": [
    "# Recommendation System - Movie Recommendation\n",
    "## This notebook outlines the concepts involved in building a Complete Recommendation System for recommending Movies to users\n",
    "## Movie Recommender System - A very very very simple Clone of Netflix"
   ]
  },
  {
   "cell_type": "markdown",
   "metadata": {},
   "source": [
    "### Import the libraries"
   ]
  },
  {
   "cell_type": "code",
   "execution_count": 2,
   "metadata": {},
   "outputs": [],
   "source": [
    "import pandas as pd\n",
    "import numpy as np\n",
    "from matplotlib import pyplot as plt"
   ]
  },
  {
   "cell_type": "code",
   "execution_count": 3,
   "metadata": {},
   "outputs": [],
   "source": [
    "movies = pd.read_csv(\"ml-20m/movies.csv\")\n",
    "ratings = pd.read_csv(\"ml-20m/ratings.csv\")\n",
    "tags = pd.read_csv(\"ml-20m/tags.csv\")"
   ]
  },
  {
   "cell_type": "code",
   "execution_count": 4,
   "metadata": {},
   "outputs": [
    {
     "data": {
      "text/html": [
       "<div>\n",
       "<style scoped>\n",
       "    .dataframe tbody tr th:only-of-type {\n",
       "        vertical-align: middle;\n",
       "    }\n",
       "\n",
       "    .dataframe tbody tr th {\n",
       "        vertical-align: top;\n",
       "    }\n",
       "\n",
       "    .dataframe thead th {\n",
       "        text-align: right;\n",
       "    }\n",
       "</style>\n",
       "<table border=\"1\" class=\"dataframe\">\n",
       "  <thead>\n",
       "    <tr style=\"text-align: right;\">\n",
       "      <th></th>\n",
       "      <th>movieId</th>\n",
       "      <th>title</th>\n",
       "      <th>genres</th>\n",
       "    </tr>\n",
       "  </thead>\n",
       "  <tbody>\n",
       "    <tr>\n",
       "      <th>0</th>\n",
       "      <td>1</td>\n",
       "      <td>Toy Story (1995)</td>\n",
       "      <td>Adventure|Animation|Children|Comedy|Fantasy</td>\n",
       "    </tr>\n",
       "    <tr>\n",
       "      <th>1</th>\n",
       "      <td>2</td>\n",
       "      <td>Jumanji (1995)</td>\n",
       "      <td>Adventure|Children|Fantasy</td>\n",
       "    </tr>\n",
       "    <tr>\n",
       "      <th>2</th>\n",
       "      <td>3</td>\n",
       "      <td>Grumpier Old Men (1995)</td>\n",
       "      <td>Comedy|Romance</td>\n",
       "    </tr>\n",
       "    <tr>\n",
       "      <th>3</th>\n",
       "      <td>4</td>\n",
       "      <td>Waiting to Exhale (1995)</td>\n",
       "      <td>Comedy|Drama|Romance</td>\n",
       "    </tr>\n",
       "    <tr>\n",
       "      <th>4</th>\n",
       "      <td>5</td>\n",
       "      <td>Father of the Bride Part II (1995)</td>\n",
       "      <td>Comedy</td>\n",
       "    </tr>\n",
       "  </tbody>\n",
       "</table>\n",
       "</div>"
      ],
      "text/plain": [
       "   movieId                               title  \\\n",
       "0        1                    Toy Story (1995)   \n",
       "1        2                      Jumanji (1995)   \n",
       "2        3             Grumpier Old Men (1995)   \n",
       "3        4            Waiting to Exhale (1995)   \n",
       "4        5  Father of the Bride Part II (1995)   \n",
       "\n",
       "                                        genres  \n",
       "0  Adventure|Animation|Children|Comedy|Fantasy  \n",
       "1                   Adventure|Children|Fantasy  \n",
       "2                               Comedy|Romance  \n",
       "3                         Comedy|Drama|Romance  \n",
       "4                                       Comedy  "
      ]
     },
     "execution_count": 4,
     "metadata": {},
     "output_type": "execute_result"
    }
   ],
   "source": [
    "movies.head(5)"
   ]
  },
  {
   "cell_type": "code",
   "execution_count": 5,
   "metadata": {},
   "outputs": [
    {
     "data": {
      "text/html": [
       "<div>\n",
       "<style scoped>\n",
       "    .dataframe tbody tr th:only-of-type {\n",
       "        vertical-align: middle;\n",
       "    }\n",
       "\n",
       "    .dataframe tbody tr th {\n",
       "        vertical-align: top;\n",
       "    }\n",
       "\n",
       "    .dataframe thead th {\n",
       "        text-align: right;\n",
       "    }\n",
       "</style>\n",
       "<table border=\"1\" class=\"dataframe\">\n",
       "  <thead>\n",
       "    <tr style=\"text-align: right;\">\n",
       "      <th></th>\n",
       "      <th>userId</th>\n",
       "      <th>movieId</th>\n",
       "      <th>rating</th>\n",
       "      <th>timestamp</th>\n",
       "    </tr>\n",
       "  </thead>\n",
       "  <tbody>\n",
       "    <tr>\n",
       "      <th>0</th>\n",
       "      <td>1</td>\n",
       "      <td>2</td>\n",
       "      <td>3.5</td>\n",
       "      <td>1112486027</td>\n",
       "    </tr>\n",
       "    <tr>\n",
       "      <th>1</th>\n",
       "      <td>1</td>\n",
       "      <td>29</td>\n",
       "      <td>3.5</td>\n",
       "      <td>1112484676</td>\n",
       "    </tr>\n",
       "    <tr>\n",
       "      <th>2</th>\n",
       "      <td>1</td>\n",
       "      <td>32</td>\n",
       "      <td>3.5</td>\n",
       "      <td>1112484819</td>\n",
       "    </tr>\n",
       "    <tr>\n",
       "      <th>3</th>\n",
       "      <td>1</td>\n",
       "      <td>47</td>\n",
       "      <td>3.5</td>\n",
       "      <td>1112484727</td>\n",
       "    </tr>\n",
       "    <tr>\n",
       "      <th>4</th>\n",
       "      <td>1</td>\n",
       "      <td>50</td>\n",
       "      <td>3.5</td>\n",
       "      <td>1112484580</td>\n",
       "    </tr>\n",
       "  </tbody>\n",
       "</table>\n",
       "</div>"
      ],
      "text/plain": [
       "   userId  movieId  rating   timestamp\n",
       "0       1        2     3.5  1112486027\n",
       "1       1       29     3.5  1112484676\n",
       "2       1       32     3.5  1112484819\n",
       "3       1       47     3.5  1112484727\n",
       "4       1       50     3.5  1112484580"
      ]
     },
     "execution_count": 5,
     "metadata": {},
     "output_type": "execute_result"
    }
   ],
   "source": [
    "ratings.head(5)"
   ]
  },
  {
   "cell_type": "code",
   "execution_count": 6,
   "metadata": {},
   "outputs": [
    {
     "data": {
      "text/html": [
       "<div>\n",
       "<style scoped>\n",
       "    .dataframe tbody tr th:only-of-type {\n",
       "        vertical-align: middle;\n",
       "    }\n",
       "\n",
       "    .dataframe tbody tr th {\n",
       "        vertical-align: top;\n",
       "    }\n",
       "\n",
       "    .dataframe thead th {\n",
       "        text-align: right;\n",
       "    }\n",
       "</style>\n",
       "<table border=\"1\" class=\"dataframe\">\n",
       "  <thead>\n",
       "    <tr style=\"text-align: right;\">\n",
       "      <th></th>\n",
       "      <th>userId</th>\n",
       "      <th>movieId</th>\n",
       "      <th>tag</th>\n",
       "      <th>timestamp</th>\n",
       "    </tr>\n",
       "  </thead>\n",
       "  <tbody>\n",
       "    <tr>\n",
       "      <th>0</th>\n",
       "      <td>18</td>\n",
       "      <td>4141</td>\n",
       "      <td>Mark Waters</td>\n",
       "      <td>1240597180</td>\n",
       "    </tr>\n",
       "    <tr>\n",
       "      <th>1</th>\n",
       "      <td>65</td>\n",
       "      <td>208</td>\n",
       "      <td>dark hero</td>\n",
       "      <td>1368150078</td>\n",
       "    </tr>\n",
       "    <tr>\n",
       "      <th>2</th>\n",
       "      <td>65</td>\n",
       "      <td>353</td>\n",
       "      <td>dark hero</td>\n",
       "      <td>1368150079</td>\n",
       "    </tr>\n",
       "    <tr>\n",
       "      <th>3</th>\n",
       "      <td>65</td>\n",
       "      <td>521</td>\n",
       "      <td>noir thriller</td>\n",
       "      <td>1368149983</td>\n",
       "    </tr>\n",
       "    <tr>\n",
       "      <th>4</th>\n",
       "      <td>65</td>\n",
       "      <td>592</td>\n",
       "      <td>dark hero</td>\n",
       "      <td>1368150078</td>\n",
       "    </tr>\n",
       "  </tbody>\n",
       "</table>\n",
       "</div>"
      ],
      "text/plain": [
       "   userId  movieId            tag   timestamp\n",
       "0      18     4141    Mark Waters  1240597180\n",
       "1      65      208      dark hero  1368150078\n",
       "2      65      353      dark hero  1368150079\n",
       "3      65      521  noir thriller  1368149983\n",
       "4      65      592      dark hero  1368150078"
      ]
     },
     "execution_count": 6,
     "metadata": {},
     "output_type": "execute_result"
    }
   ],
   "source": [
    "tags.head(5)"
   ]
  },
  {
   "cell_type": "code",
   "execution_count": null,
   "metadata": {},
   "outputs": [
    {
     "name": "stdout",
     "output_type": "stream",
     "text": [
      "Unique movieIds: 26744\n",
      "Unique userIds: 138493\n"
     ]
    }
   ],
   "source": [
    "unique_movie_ids = ratings['movieId'].unique()\n",
    "\n",
    "print(\"Unique movieIds:\", ratings['movieId'].nunique())\n",
    "print(\"Unique userIds:\", ratings['userId'].nunique())"
   ]
  },
  {
   "cell_type": "markdown",
   "metadata": {},
   "source": [
    "# 1. Content Filtering"
   ]
  },
  {
   "cell_type": "markdown",
   "metadata": {},
   "source": [
    "### Data Preparation\n",
    "Prepare data for Metadata from merging movies and tags"
   ]
  },
  {
   "cell_type": "code",
   "execution_count": 8,
   "metadata": {},
   "outputs": [
    {
     "name": "stdout",
     "output_type": "stream",
     "text": [
      "Movies metadata sample:\n",
      "    movieId                               title  \\\n",
      "0        1                    Toy Story (1995)   \n",
      "1        2                      Jumanji (1995)   \n",
      "2        3             Grumpier Old Men (1995)   \n",
      "3        4            Waiting to Exhale (1995)   \n",
      "4        5  Father of the Bride Part II (1995)   \n",
      "\n",
      "                                            metadata  \n",
      "0  Toy Story (1995) Watched computer animation Di...  \n",
      "1  Jumanji (1995) time travel adapted from:book b...  \n",
      "2  Grumpier Old Men (1995) old people that is act...  \n",
      "3  Waiting to Exhale (1995) chick flick revenge c...  \n",
      "4  Father of the Bride Part II (1995) Diane Keato...  \n"
     ]
    }
   ],
   "source": [
    "# Aggregate tags by movieId, converting values to strings and filling missing values\n",
    "movie_tags = tags.groupby('movieId', as_index=False).agg({\n",
    "    'tag': lambda x: \" \".join(x.fillna('').astype(str))\n",
    "})\n",
    "\n",
    "# Merge movies and aggregated tags, and create metadata by combining title and tags\n",
    "movies_metadata = movies.merge(movie_tags, on='movieId', how='left')\n",
    "movies_metadata['metadata'] = movies_metadata['title'] + \" \" + movies_metadata['tag'].fillna('')\n",
    "\n",
    "print(\"Movies metadata sample:\\n\", movies_metadata[['movieId', 'title', 'metadata']].head())"
   ]
  },
  {
   "cell_type": "markdown",
   "metadata": {},
   "source": [
    "## TF-IDF Vectorizer on Metadata"
   ]
  },
  {
   "cell_type": "code",
   "execution_count": 9,
   "metadata": {},
   "outputs": [],
   "source": [
    "from sklearn.feature_extraction.text import TfidfVectorizer\n",
    "from sklearn.decomposition import TruncatedSVD\n",
    "from sklearn.metrics.pairwise import cosine_similarity"
   ]
  },
  {
   "cell_type": "code",
   "execution_count": 10,
   "metadata": {},
   "outputs": [
    {
     "name": "stdout",
     "output_type": "stream",
     "text": [
      "(27278, 38243)\n"
     ]
    }
   ],
   "source": [
    "# Build TF-IDF matrix from metadata\n",
    "tfidf = TfidfVectorizer(stop_words='english')\n",
    "tfidf_matrix = tfidf.fit_transform(movies_metadata['metadata'])\n",
    "tfidf_df = pd.DataFrame(tfidf_matrix.toarray(), index=movies_metadata.index.tolist())\n",
    "print(tfidf_df.shape)"
   ]
  },
  {
   "cell_type": "code",
   "execution_count": 11,
   "metadata": {},
   "outputs": [
    {
     "data": {
      "image/png": "[encoded data removed]",
      "text/plain": [
       "<Figure size 640x480 with 1 Axes>"
      ]
     },
     "metadata": {},
     "output_type": "display_data"
    }
   ],
   "source": [
    "svd = TruncatedSVD(n_components=100)\n",
    "latent_matrix = svd.fit_transform(tfidf_df)\n",
    "# plot var expalined to see what latent dimensions to use\n",
    "explained = svd.explained_variance_ratio_.cumsum()\n",
    "plt.plot(explained, '.-', ms = 16, color='red')\n",
    "plt.xlabel('Singular value components', fontsize= 12)\n",
    "plt.ylabel('Cumulative percent of variance', fontsize=12)        \n",
    "plt.show()"
   ]
  },
  {
   "cell_type": "code",
   "execution_count": 12,
   "metadata": {},
   "outputs": [],
   "source": [
    "content_sim = cosine_similarity(latent_matrix, latent_matrix)"
   ]
  },
  {
   "cell_type": "code",
   "execution_count": 13,
   "metadata": {},
   "outputs": [],
   "source": [
    "def content_recommendations(movie_title, top_n=10):\n",
    "    # Find the movie index for the given title\n",
    "    idx = movies_metadata[movies_metadata['title'].str.contains(movie_title, case=False, regex=False)].index[0]\n",
    "    sim_scores = list(enumerate(content_sim[idx]))\n",
    "    sim_scores = sorted(sim_scores, key=lambda x: x[1], reverse=True)\n",
    "    \n",
    "    # Exclude the movie itself\n",
    "    sim_scores = sim_scores[1:top_n+1]\n",
    "    movie_indices = [i[0] for i in sim_scores]\n",
    "    return movies_metadata[['movieId','title']].iloc[movie_indices]"
   ]
  },
  {
   "cell_type": "code",
   "execution_count": 14,
   "metadata": {},
   "outputs": [
    {
     "name": "stdout",
     "output_type": "stream",
     "text": [
      "Content recommendations for 'Toy Story':\n",
      "       movieId                  title\n",
      "3027      3114     Toy Story 2 (1999)\n",
      "11614    50872     Ratatouille (2007)\n",
      "6271      6377    Finding Nemo (2003)\n",
      "5121      5218         Ice Age (2002)\n",
      "2270      2355   Bug's Life, A (1998)\n",
      "13767    68954              Up (2009)\n",
      "4790      4886  Monsters, Inc. (2001)\n",
      "7761      8360         Shrek 2 (2004)\n",
      "15401    78499     Toy Story 3 (2010)\n",
      "4211      4306           Shrek (2001)\n"
     ]
    }
   ],
   "source": [
    "# Test content recommender:\n",
    "print(\"Content recommendations for 'Toy Story':\")\n",
    "print(content_recommendations(\"Toy Story\", top_n=10))"
   ]
  },
  {
   "cell_type": "markdown",
   "metadata": {},
   "source": [
    "## 2. Collaborative Filtering"
   ]
  },
  {
   "cell_type": "code",
   "execution_count": 15,
   "metadata": {},
   "outputs": [],
   "source": [
    "# First set index on filtered_movies\n",
    "filtered_movies = movies_metadata[movies_metadata['movieId'].isin(unique_movie_ids)]\n",
    "filtered_movies = filtered_movies.set_index('movieId')\n",
    "common_movie_ids = set(movies_metadata['movieId']).intersection(set(ratings['movieId'].unique()))"
   ]
  },
  {
   "cell_type": "code",
   "execution_count": 16,
   "metadata": {},
   "outputs": [],
   "source": [
    "ratings_filtered = ratings[ratings['movieId'].isin(common_movie_ids)]\n",
    "# Find movie IDs that exist in both datasets\n",
    "valid_movie_ids = [mid for mid in unique_movie_ids if mid in filtered_movies.index]"
   ]
  },
  {
   "cell_type": "code",
   "execution_count": 17,
   "metadata": {},
   "outputs": [],
   "source": [
    "# Create mappers and sparse matrix using only valid movie IDs\n",
    "movie_mapper = {mid: i for i, mid in enumerate(valid_movie_ids)}\n",
    "user_mapper = {uid: i for i, uid in enumerate(ratings_filtered['userId'].unique())}"
   ]
  },
  {
   "cell_type": "code",
   "execution_count": 18,
   "metadata": {},
   "outputs": [],
   "source": [
    "# Filter ratings to only include valid movie IDs\n",
    "ratings_valid = ratings_filtered[ratings_filtered['movieId'].isin(valid_movie_ids)]\n",
    "\n",
    "row_indices = ratings_valid['movieId'].map(movie_mapper)\n",
    "col_indices = ratings_valid['userId'].map(user_mapper)\n",
    "data = ratings_valid['rating'].values"
   ]
  },
  {
   "cell_type": "code",
   "execution_count": 19,
   "metadata": {},
   "outputs": [
    {
     "name": "stdout",
     "output_type": "stream",
     "text": [
      "Sparse matrix shape: (26744, 138493)\n"
     ]
    }
   ],
   "source": [
    "from scipy.sparse import coo_matrix\n",
    "user_movies_data = coo_matrix((data, (row_indices, col_indices)),\n",
    "                             shape=(len(movie_mapper), len(user_mapper)))\n",
    "\n",
    "print(\"Sparse matrix shape:\", user_movies_data.shape)"
   ]
  },
  {
   "cell_type": "code",
   "execution_count": 20,
   "metadata": {},
   "outputs": [],
   "source": [
    "# Now create the movie titles list\n",
    "movie_titles = [filtered_movies.loc[mid, 'title'] for mid in valid_movie_ids]"
   ]
  },
  {
   "cell_type": "code",
   "execution_count": 21,
   "metadata": {},
   "outputs": [
    {
     "name": "stdout",
     "output_type": "stream",
     "text": [
      "Collaborative latent matrix shape: (26744, 100)\n",
      "Content latent matrix shape: (26744, 100)\n"
     ]
    }
   ],
   "source": [
    "# Create SVD latent matrix\n",
    "from sklearn.decomposition import TruncatedSVD\n",
    "svd = TruncatedSVD(n_components=100, random_state=42)\n",
    "latent_matrix_2 = svd.fit_transform(user_movies_data)\n",
    "latent_matrix_2_df = pd.DataFrame(latent_matrix_2, index=movie_titles)\n",
    "print(\"Collaborative latent matrix shape:\", latent_matrix_2_df.shape)\n",
    "\n",
    "# For content matrix, make sure to filter to valid movie IDs\n",
    "if 'latent_matrix' in globals():\n",
    "    # Get indices of valid movies in the original matrix\n",
    "    valid_indices = [i for i, mid in enumerate(movies_metadata['movieId']) \n",
    "                    if mid in valid_movie_ids]\n",
    "    \n",
    "    # Filter latent matrix to only include valid movies\n",
    "    latent_matrix_filtered = latent_matrix[valid_indices, :100]\n",
    "    latent_matrix_1_df = pd.DataFrame(latent_matrix_filtered, index=movie_titles)\n",
    "    print(\"Content latent matrix shape:\", latent_matrix_1_df.shape)"
   ]
  },
  {
   "cell_type": "code",
   "execution_count": 22,
   "metadata": {},
   "outputs": [
    {
     "name": "stdout",
     "output_type": "stream",
     "text": [
      "Content latent matrix shape: (26744, 100)\n",
      "Collaborative latent matrix shape: (26744, 100)\n"
     ]
    }
   ],
   "source": [
    "n = 101\n",
    "\n",
    "# Create a list of movie IDs for movies that have ratings\n",
    "movie_ids_with_ratings = list(movie_mapper.keys())\n",
    "\n",
    "# Filter movies_metadata to only those movies with ratings\n",
    "filtered_movies = movies_metadata[movies_metadata['movieId'].isin(movie_ids_with_ratings)].copy()\n",
    "\n",
    "# Create a mapping from movieId to row index in latent_matrix\n",
    "# Assuming movies_metadata and latent_matrix are aligned (same order)\n",
    "movie_to_row_idx = {mid: i for i, mid in enumerate(movies_metadata['movieId'])}\n",
    "\n",
    "# Get the row indices for our filtered movies\n",
    "row_indices = [movie_to_row_idx[mid] for mid in movie_ids_with_ratings if mid in movie_to_row_idx]\n",
    "\n",
    "# Create a movie title list for indexing both matrices\n",
    "filtered_movies = filtered_movies.set_index('movieId')\n",
    "movie_titles = [filtered_movies.loc[mid, 'title'] for mid in movie_ids_with_ratings]\n",
    "\n",
    "# Filter latent_matrix to only include the relevant rows\n",
    "latent_matrix_filtered = latent_matrix[row_indices, :n]\n",
    "latent_matrix_1_df = pd.DataFrame(latent_matrix_filtered, index=movie_titles)\n",
    "print(\"Content latent matrix shape:\", latent_matrix_1_df.shape)\n",
    "\n",
    "# Your collaborative matrix DataFrame with the same index\n",
    "latent_matrix_2_df = pd.DataFrame(latent_matrix_2, index=movie_titles)\n",
    "print(\"Collaborative latent matrix shape:\", latent_matrix_2_df.shape)"
   ]
  },
  {
   "cell_type": "code",
   "execution_count": 23,
   "metadata": {},
   "outputs": [
    {
     "data": {
      "image/png": "[encoded data removed]",
      "text/plain": [
       "<Figure size 640x480 with 1 Axes>"
      ]
     },
     "metadata": {},
     "output_type": "display_data"
    }
   ],
   "source": [
    "# plot variance expalined to see what latent dimensions to use\n",
    "explained = svd.explained_variance_ratio_.cumsum()\n",
    "plt.plot(explained, '.-', ms = 16, color='red')\n",
    "plt.xlabel('Singular value components', fontsize= 12)\n",
    "plt.ylabel('Cumulative percent of variance', fontsize=12)        \n",
    "plt.show()\n"
   ]
  },
  {
   "cell_type": "code",
   "execution_count": 24,
   "metadata": {},
   "outputs": [
    {
     "name": "stdout",
     "output_type": "stream",
     "text": [
      "Shape of latent_matrix_1_df: (26744, 100)\n",
      "Shape of latent_matrix_2_df: (26744, 100)\n"
     ]
    }
   ],
   "source": [
    "import numpy as np\n",
    "import pandas as pd\n",
    "from sklearn.metrics.pairwise import cosine_similarity\n",
    "\n",
    "# Align the indices of the two latent matrices\n",
    "common_indices = latent_matrix_1_df.index.intersection(latent_matrix_2_df.index)\n",
    "latent_matrix_1_df = latent_matrix_1_df.loc[common_indices]\n",
    "latent_matrix_2_df = latent_matrix_2_df.loc[common_indices]\n",
    "\n",
    "print(f\"Shape of latent_matrix_1_df: {latent_matrix_1_df.shape}\")\n",
    "print(f\"Shape of latent_matrix_2_df: {latent_matrix_2_df.shape}\")"
   ]
  },
  {
   "cell_type": "code",
   "execution_count": 25,
   "metadata": {},
   "outputs": [
    {
     "name": "stdout",
     "output_type": "stream",
     "text": [
      "Shape of score_1: (26744,)\n",
      "Shape of score_2: (26744,)\n"
     ]
    }
   ],
   "source": [
    "# Ensure 'Toy Story (1995)' is in the common indices\n",
    "if 'Toy Story (1995)' not in common_indices:\n",
    "    raise ValueError(\"Toy Story (1995) is not present in both matrices\")\n",
    "\n",
    "# Take the latent vectors for a selected movie from both content and collaborative matrices\n",
    "a_1 = np.array(latent_matrix_1_df.loc['Toy Story (1995)']).reshape(1, -1)\n",
    "a_2 = np.array(latent_matrix_2_df.loc[\"Toy Story (1995)\"]).reshape(1, -1)\n",
    "\n",
    "# Calculate the similarity of this movie with the others in the list\n",
    "score_1 = cosine_similarity(latent_matrix_1_df, a_1).reshape(-1)\n",
    "score_2 = cosine_similarity(latent_matrix_2_df, a_2).reshape(-1)\n",
    "\n",
    "# Print shapes of the scores\n",
    "print(f\"Shape of score_1: {score_1.shape}\")\n",
    "print(f\"Shape of score_2: {score_2.shape}\")"
   ]
  },
  {
   "cell_type": "code",
   "execution_count": 26,
   "metadata": {},
   "outputs": [
    {
     "data": {
      "text/html": [
       "<div>\n",
       "<style scoped>\n",
       "    .dataframe tbody tr th:only-of-type {\n",
       "        vertical-align: middle;\n",
       "    }\n",
       "\n",
       "    .dataframe tbody tr th {\n",
       "        vertical-align: top;\n",
       "    }\n",
       "\n",
       "    .dataframe thead th {\n",
       "        text-align: right;\n",
       "    }\n",
       "</style>\n",
       "<table border=\"1\" class=\"dataframe\">\n",
       "  <thead>\n",
       "    <tr style=\"text-align: right;\">\n",
       "      <th></th>\n",
       "      <th>content</th>\n",
       "      <th>collaborative</th>\n",
       "      <th>hybrid</th>\n",
       "    </tr>\n",
       "  </thead>\n",
       "  <tbody>\n",
       "    <tr>\n",
       "      <th>Toy Story 2 (1999)</th>\n",
       "      <td>0.981494</td>\n",
       "      <td>0.732942</td>\n",
       "      <td>0.857218</td>\n",
       "    </tr>\n",
       "    <tr>\n",
       "      <th>Ratatouille (2007)</th>\n",
       "      <td>0.968390</td>\n",
       "      <td>0.414179</td>\n",
       "      <td>0.691285</td>\n",
       "    </tr>\n",
       "    <tr>\n",
       "      <th>Finding Nemo (2003)</th>\n",
       "      <td>0.966972</td>\n",
       "      <td>0.567972</td>\n",
       "      <td>0.767472</td>\n",
       "    </tr>\n",
       "    <tr>\n",
       "      <th>Ice Age (2002)</th>\n",
       "      <td>0.964456</td>\n",
       "      <td>0.468390</td>\n",
       "      <td>0.716423</td>\n",
       "    </tr>\n",
       "    <tr>\n",
       "      <th>Bug's Life, A (1998)</th>\n",
       "      <td>0.960187</td>\n",
       "      <td>0.657961</td>\n",
       "      <td>0.809074</td>\n",
       "    </tr>\n",
       "    <tr>\n",
       "      <th>Up (2009)</th>\n",
       "      <td>0.945147</td>\n",
       "      <td>0.348542</td>\n",
       "      <td>0.646845</td>\n",
       "    </tr>\n",
       "    <tr>\n",
       "      <th>Monsters, Inc. (2001)</th>\n",
       "      <td>0.924463</td>\n",
       "      <td>0.591157</td>\n",
       "      <td>0.757810</td>\n",
       "    </tr>\n",
       "    <tr>\n",
       "      <th>Shrek 2 (2004)</th>\n",
       "      <td>0.919448</td>\n",
       "      <td>0.514160</td>\n",
       "      <td>0.716804</td>\n",
       "    </tr>\n",
       "    <tr>\n",
       "      <th>Toy Story 3 (2010)</th>\n",
       "      <td>0.911064</td>\n",
       "      <td>0.394050</td>\n",
       "      <td>0.652557</td>\n",
       "    </tr>\n",
       "    <tr>\n",
       "      <th>Shrek (2001)</th>\n",
       "      <td>0.894181</td>\n",
       "      <td>0.591785</td>\n",
       "      <td>0.742983</td>\n",
       "    </tr>\n",
       "    <tr>\n",
       "      <th>Monsters vs. Aliens (2009)</th>\n",
       "      <td>0.889439</td>\n",
       "      <td>0.243403</td>\n",
       "      <td>0.566421</td>\n",
       "    </tr>\n",
       "  </tbody>\n",
       "</table>\n",
       "</div>"
      ],
      "text/plain": [
       "                             content  collaborative    hybrid\n",
       "Toy Story 2 (1999)          0.981494       0.732942  0.857218\n",
       "Ratatouille (2007)          0.968390       0.414179  0.691285\n",
       "Finding Nemo (2003)         0.966972       0.567972  0.767472\n",
       "Ice Age (2002)              0.964456       0.468390  0.716423\n",
       "Bug's Life, A (1998)        0.960187       0.657961  0.809074\n",
       "Up (2009)                   0.945147       0.348542  0.646845\n",
       "Monsters, Inc. (2001)       0.924463       0.591157  0.757810\n",
       "Shrek 2 (2004)              0.919448       0.514160  0.716804\n",
       "Toy Story 3 (2010)          0.911064       0.394050  0.652557\n",
       "Shrek (2001)                0.894181       0.591785  0.742983\n",
       "Monsters vs. Aliens (2009)  0.889439       0.243403  0.566421"
      ]
     },
     "execution_count": 26,
     "metadata": {},
     "output_type": "execute_result"
    }
   ],
   "source": [
    "# Verify that the calculated scores have the same shape\n",
    "assert score_1.shape == score_2.shape, \"Calculated scores do not have the same shape\"\n",
    "\n",
    "# An average measure of both content and collaborative\n",
    "hybrid = ((score_1 + score_2) / 2.0)\n",
    "\n",
    "# Form a data frame of similar movies\n",
    "dictDf = {'content': score_1, 'collaborative': score_2, 'hybrid': hybrid}\n",
    "similar = pd.DataFrame(dictDf, index=latent_matrix_2_df.index)\n",
    "\n",
    "# Sort it on the basis of either: content, collaborative, or hybrid\n",
    "# Here: content\n",
    "similar.sort_values('content', ascending=False, inplace=True)\n",
    "\n",
    "# Display the top 10 similar movies\n",
    "similar[1:].head(11)"
   ]
  },
  {
   "cell_type": "code",
   "execution_count": 27,
   "metadata": {},
   "outputs": [
    {
     "data": {
      "text/html": [
       "<div>\n",
       "<style scoped>\n",
       "    .dataframe tbody tr th:only-of-type {\n",
       "        vertical-align: middle;\n",
       "    }\n",
       "\n",
       "    .dataframe tbody tr th {\n",
       "        vertical-align: top;\n",
       "    }\n",
       "\n",
       "    .dataframe thead th {\n",
       "        text-align: right;\n",
       "    }\n",
       "</style>\n",
       "<table border=\"1\" class=\"dataframe\">\n",
       "  <thead>\n",
       "    <tr style=\"text-align: right;\">\n",
       "      <th></th>\n",
       "      <th>content</th>\n",
       "      <th>collaborative</th>\n",
       "      <th>hybrid</th>\n",
       "    </tr>\n",
       "  </thead>\n",
       "  <tbody>\n",
       "    <tr>\n",
       "      <th>Toy Story 2 (1999)</th>\n",
       "      <td>0.981494</td>\n",
       "      <td>0.732942</td>\n",
       "      <td>0.857218</td>\n",
       "    </tr>\n",
       "    <tr>\n",
       "      <th>Willy Wonka &amp; the Chocolate Factory (1971)</th>\n",
       "      <td>0.191508</td>\n",
       "      <td>0.668484</td>\n",
       "      <td>0.429996</td>\n",
       "    </tr>\n",
       "    <tr>\n",
       "      <th>Bug's Life, A (1998)</th>\n",
       "      <td>0.960187</td>\n",
       "      <td>0.657961</td>\n",
       "      <td>0.809074</td>\n",
       "    </tr>\n",
       "    <tr>\n",
       "      <th>Independence Day (a.k.a. ID4) (1996)</th>\n",
       "      <td>0.043358</td>\n",
       "      <td>0.648931</td>\n",
       "      <td>0.346144</td>\n",
       "    </tr>\n",
       "    <tr>\n",
       "      <th>Mission: Impossible (1996)</th>\n",
       "      <td>0.179467</td>\n",
       "      <td>0.640050</td>\n",
       "      <td>0.409758</td>\n",
       "    </tr>\n",
       "    <tr>\n",
       "      <th>Twister (1996)</th>\n",
       "      <td>0.177843</td>\n",
       "      <td>0.638992</td>\n",
       "      <td>0.408418</td>\n",
       "    </tr>\n",
       "    <tr>\n",
       "      <th>Star Wars: Episode IV - A New Hope (1977)</th>\n",
       "      <td>0.064071</td>\n",
       "      <td>0.631876</td>\n",
       "      <td>0.347973</td>\n",
       "    </tr>\n",
       "    <tr>\n",
       "      <th>James and the Giant Peach (1996)</th>\n",
       "      <td>0.596533</td>\n",
       "      <td>0.619702</td>\n",
       "      <td>0.608117</td>\n",
       "    </tr>\n",
       "    <tr>\n",
       "      <th>Groundhog Day (1993)</th>\n",
       "      <td>0.227742</td>\n",
       "      <td>0.619533</td>\n",
       "      <td>0.423637</td>\n",
       "    </tr>\n",
       "    <tr>\n",
       "      <th>Lion King, The (1994)</th>\n",
       "      <td>0.745236</td>\n",
       "      <td>0.615317</td>\n",
       "      <td>0.680276</td>\n",
       "    </tr>\n",
       "    <tr>\n",
       "      <th>Star Wars: Episode VI - Return of the Jedi (1983)</th>\n",
       "      <td>0.060631</td>\n",
       "      <td>0.609041</td>\n",
       "      <td>0.334836</td>\n",
       "    </tr>\n",
       "  </tbody>\n",
       "</table>\n",
       "</div>"
      ],
      "text/plain": [
       "                                                    content  collaborative  \\\n",
       "Toy Story 2 (1999)                                 0.981494       0.732942   \n",
       "Willy Wonka & the Chocolate Factory (1971)         0.191508       0.668484   \n",
       "Bug's Life, A (1998)                               0.960187       0.657961   \n",
       "Independence Day (a.k.a. ID4) (1996)               0.043358       0.648931   \n",
       "Mission: Impossible (1996)                         0.179467       0.640050   \n",
       "Twister (1996)                                     0.177843       0.638992   \n",
       "Star Wars: Episode IV - A New Hope (1977)          0.064071       0.631876   \n",
       "James and the Giant Peach (1996)                   0.596533       0.619702   \n",
       "Groundhog Day (1993)                               0.227742       0.619533   \n",
       "Lion King, The (1994)                              0.745236       0.615317   \n",
       "Star Wars: Episode VI - Return of the Jedi (1983)  0.060631       0.609041   \n",
       "\n",
       "                                                     hybrid  \n",
       "Toy Story 2 (1999)                                 0.857218  \n",
       "Willy Wonka & the Chocolate Factory (1971)         0.429996  \n",
       "Bug's Life, A (1998)                               0.809074  \n",
       "Independence Day (a.k.a. ID4) (1996)               0.346144  \n",
       "Mission: Impossible (1996)                         0.409758  \n",
       "Twister (1996)                                     0.408418  \n",
       "Star Wars: Episode IV - A New Hope (1977)          0.347973  \n",
       "James and the Giant Peach (1996)                   0.608117  \n",
       "Groundhog Day (1993)                               0.423637  \n",
       "Lion King, The (1994)                              0.680276  \n",
       "Star Wars: Episode VI - Return of the Jedi (1983)  0.334836  "
      ]
     },
     "execution_count": 27,
     "metadata": {},
     "output_type": "execute_result"
    }
   ],
   "source": [
    "similar.sort_values('collaborative', ascending=False, inplace=True)\n",
    "\n",
    "similar[1:].head(11)"
   ]
  },
  {
   "cell_type": "code",
   "execution_count": 28,
   "metadata": {},
   "outputs": [
    {
     "data": {
      "text/html": [
       "<div>\n",
       "<style scoped>\n",
       "    .dataframe tbody tr th:only-of-type {\n",
       "        vertical-align: middle;\n",
       "    }\n",
       "\n",
       "    .dataframe tbody tr th {\n",
       "        vertical-align: top;\n",
       "    }\n",
       "\n",
       "    .dataframe thead th {\n",
       "        text-align: right;\n",
       "    }\n",
       "</style>\n",
       "<table border=\"1\" class=\"dataframe\">\n",
       "  <thead>\n",
       "    <tr style=\"text-align: right;\">\n",
       "      <th></th>\n",
       "      <th>content</th>\n",
       "      <th>collaborative</th>\n",
       "      <th>hybrid</th>\n",
       "    </tr>\n",
       "  </thead>\n",
       "  <tbody>\n",
       "    <tr>\n",
       "      <th>Toy Story 2 (1999)</th>\n",
       "      <td>0.981494</td>\n",
       "      <td>0.732942</td>\n",
       "      <td>0.857218</td>\n",
       "    </tr>\n",
       "    <tr>\n",
       "      <th>Bug's Life, A (1998)</th>\n",
       "      <td>0.960187</td>\n",
       "      <td>0.657961</td>\n",
       "      <td>0.809074</td>\n",
       "    </tr>\n",
       "    <tr>\n",
       "      <th>Finding Nemo (2003)</th>\n",
       "      <td>0.966972</td>\n",
       "      <td>0.567972</td>\n",
       "      <td>0.767472</td>\n",
       "    </tr>\n",
       "    <tr>\n",
       "      <th>Monsters, Inc. (2001)</th>\n",
       "      <td>0.924463</td>\n",
       "      <td>0.591157</td>\n",
       "      <td>0.757810</td>\n",
       "    </tr>\n",
       "    <tr>\n",
       "      <th>Shrek (2001)</th>\n",
       "      <td>0.894181</td>\n",
       "      <td>0.591785</td>\n",
       "      <td>0.742983</td>\n",
       "    </tr>\n",
       "    <tr>\n",
       "      <th>Shrek 2 (2004)</th>\n",
       "      <td>0.919448</td>\n",
       "      <td>0.514160</td>\n",
       "      <td>0.716804</td>\n",
       "    </tr>\n",
       "    <tr>\n",
       "      <th>Ice Age (2002)</th>\n",
       "      <td>0.964456</td>\n",
       "      <td>0.468390</td>\n",
       "      <td>0.716423</td>\n",
       "    </tr>\n",
       "    <tr>\n",
       "      <th>Antz (1998)</th>\n",
       "      <td>0.836988</td>\n",
       "      <td>0.569065</td>\n",
       "      <td>0.703026</td>\n",
       "    </tr>\n",
       "    <tr>\n",
       "      <th>Chicken Run (2000)</th>\n",
       "      <td>0.849663</td>\n",
       "      <td>0.550154</td>\n",
       "      <td>0.699908</td>\n",
       "    </tr>\n",
       "    <tr>\n",
       "      <th>Incredibles, The (2004)</th>\n",
       "      <td>0.855041</td>\n",
       "      <td>0.534438</td>\n",
       "      <td>0.694739</td>\n",
       "    </tr>\n",
       "    <tr>\n",
       "      <th>Ratatouille (2007)</th>\n",
       "      <td>0.968390</td>\n",
       "      <td>0.414179</td>\n",
       "      <td>0.691285</td>\n",
       "    </tr>\n",
       "  </tbody>\n",
       "</table>\n",
       "</div>"
      ],
      "text/plain": [
       "                          content  collaborative    hybrid\n",
       "Toy Story 2 (1999)       0.981494       0.732942  0.857218\n",
       "Bug's Life, A (1998)     0.960187       0.657961  0.809074\n",
       "Finding Nemo (2003)      0.966972       0.567972  0.767472\n",
       "Monsters, Inc. (2001)    0.924463       0.591157  0.757810\n",
       "Shrek (2001)             0.894181       0.591785  0.742983\n",
       "Shrek 2 (2004)           0.919448       0.514160  0.716804\n",
       "Ice Age (2002)           0.964456       0.468390  0.716423\n",
       "Antz (1998)              0.836988       0.569065  0.703026\n",
       "Chicken Run (2000)       0.849663       0.550154  0.699908\n",
       "Incredibles, The (2004)  0.855041       0.534438  0.694739\n",
       "Ratatouille (2007)       0.968390       0.414179  0.691285"
      ]
     },
     "execution_count": 28,
     "metadata": {},
     "output_type": "execute_result"
    }
   ],
   "source": [
    "similar.sort_values('hybrid', ascending=False, inplace=True)\n",
    "\n",
    "similar[1:].head(11)"
   ]
  },
  {
   "cell_type": "markdown",
   "metadata": {},
   "source": [
    "## 3. Hybrid Recommendation System"
   ]
  },
  {
   "cell_type": "code",
   "execution_count": 29,
   "metadata": {},
   "outputs": [],
   "source": [
    "def recommend_similar_movies(title):\n",
    "    # take the latent vectors for a selected movie from both content \n",
    "    # and collaborative matrixes\n",
    "    a_1 = np.array(latent_matrix_1_df.loc[title]).reshape(1, -1)\n",
    "    a_2 = np.array(latent_matrix_2_df.loc[title]).reshape(1, -1)\n",
    "\n",
    "    # calculate the similartity of this movie with the others in the list\n",
    "    score_1 = cosine_similarity(latent_matrix_1_df, a_1).reshape(-1)\n",
    "    score_2 = cosine_similarity(latent_matrix_2_df, a_2).reshape(-1)\n",
    "\n",
    "    # an average measure of both content and collaborative \n",
    "    hybrid = ((score_1 + score_2)/2.0)\n",
    "\n",
    "    # form a data frame of similar movies \n",
    "    dictDf = {'content': score_1 , 'collaborative': score_2, 'hybrid': hybrid} \n",
    "    similar = pd.DataFrame(dictDf, index = latent_matrix_2_df.index )\n",
    "\n",
    "    #sort it on the basis of either: content, collaborative or hybrid\n",
    "    similar.sort_values('hybrid', ascending=False, inplace=True)\n",
    "\n",
    "    print(similar[1:].head(11))"
   ]
  },
  {
   "cell_type": "code",
   "execution_count": 30,
   "metadata": {},
   "outputs": [
    {
     "name": "stdout",
     "output_type": "stream",
     "text": [
      "                          content  collaborative    hybrid\n",
      "Toy Story 2 (1999)       0.981494       0.732942  0.857218\n",
      "Bug's Life, A (1998)     0.960187       0.657961  0.809074\n",
      "Finding Nemo (2003)      0.966972       0.567972  0.767472\n",
      "Monsters, Inc. (2001)    0.924463       0.591157  0.757810\n",
      "Shrek (2001)             0.894181       0.591785  0.742983\n",
      "Shrek 2 (2004)           0.919448       0.514160  0.716804\n",
      "Ice Age (2002)           0.964456       0.468390  0.716423\n",
      "Antz (1998)              0.836988       0.569065  0.703026\n",
      "Chicken Run (2000)       0.849663       0.550154  0.699908\n",
      "Incredibles, The (2004)  0.855041       0.534438  0.694739\n",
      "Ratatouille (2007)       0.968390       0.414179  0.691285\n"
     ]
    }
   ],
   "source": [
    "recommend_similar_movies(\"Toy Story (1995)\")"
   ]
  },
  {
   "cell_type": "code",
   "execution_count": 31,
   "metadata": {},
   "outputs": [
    {
     "name": "stdout",
     "output_type": "stream",
     "text": [
      "                                  content  collaborative    hybrid\n",
      "World Is Not Enough, The (1999)  0.987375       0.645217  0.816296\n",
      "Tomorrow Never Dies (1997)       0.930991       0.678670  0.804831\n",
      "Goldfinger (1964)                0.994489       0.539628  0.767058\n",
      "Licence to Kill (1989)           0.991960       0.540845  0.766402\n",
      "Die Another Day (2002)           0.994058       0.522066  0.758062\n",
      "For Your Eyes Only (1981)        0.993602       0.510725  0.752164\n",
      "View to a Kill, A (1985)         0.987368       0.515665  0.751516\n",
      "Dr. No (1962)                    0.993306       0.508034  0.750670\n",
      "Spy Who Loved Me, The (1977)     0.993634       0.503215  0.748425\n",
      "Live and Let Die (1973)          0.991674       0.503845  0.747760\n",
      "From Russia with Love (1963)     0.994346       0.499984  0.747165\n"
     ]
    }
   ],
   "source": [
    "recommend_similar_movies(\"GoldenEye (1995)\")"
   ]
  },
  {
   "cell_type": "code",
   "execution_count": 32,
   "metadata": {},
   "outputs": [
    {
     "name": "stdout",
     "output_type": "stream",
     "text": [
      "                                    content  collaborative    hybrid\n",
      "Rock, The (1996)                   0.683305       0.928745  0.806025\n",
      "Twister (1996)                     0.691970       0.897975  0.794973\n",
      "Eraser (1996)                      0.687801       0.824292  0.756047\n",
      "Speed (1994)                       0.785480       0.719107  0.752294\n",
      "Mission: Impossible II (2000)      0.840842       0.643595  0.742219\n",
      "Long Kiss Goodnight, The (1996)    0.775552       0.642100  0.708826\n",
      "Air Force One (1997)               0.792019       0.613674  0.702846\n",
      "Mission: Impossible III (2006)     0.946964       0.420488  0.683726\n",
      "Die Hard: With a Vengeance (1995)  0.722912       0.623735  0.673324\n",
      "Die Hard (1988)                    0.718659       0.625428  0.672043\n",
      "True Lies (1994)                   0.667689       0.654054  0.660871\n"
     ]
    }
   ],
   "source": [
    "recommend_similar_movies(\"Mission: Impossible (1996)\")"
   ]
  },
  {
   "cell_type": "markdown",
   "metadata": {},
   "source": [
    "## Surprise"
   ]
  },
  {
   "cell_type": "code",
   "execution_count": 33,
   "metadata": {},
   "outputs": [],
   "source": [
    "from surprise import Dataset, Reader, SVD, accuracy\n",
    "from surprise.model_selection import train_test_split"
   ]
  },
  {
   "cell_type": "code",
   "execution_count": 34,
   "metadata": {},
   "outputs": [
    {
     "data": {
      "text/html": [
       "<div>\n",
       "<style scoped>\n",
       "    .dataframe tbody tr th:only-of-type {\n",
       "        vertical-align: middle;\n",
       "    }\n",
       "\n",
       "    .dataframe tbody tr th {\n",
       "        vertical-align: top;\n",
       "    }\n",
       "\n",
       "    .dataframe thead th {\n",
       "        text-align: right;\n",
       "    }\n",
       "</style>\n",
       "<table border=\"1\" class=\"dataframe\">\n",
       "  <thead>\n",
       "    <tr style=\"text-align: right;\">\n",
       "      <th></th>\n",
       "      <th>userId</th>\n",
       "      <th>movieId</th>\n",
       "      <th>rating</th>\n",
       "      <th>timestamp</th>\n",
       "    </tr>\n",
       "  </thead>\n",
       "  <tbody>\n",
       "    <tr>\n",
       "      <th>0</th>\n",
       "      <td>1</td>\n",
       "      <td>2</td>\n",
       "      <td>3.5</td>\n",
       "      <td>1112486027</td>\n",
       "    </tr>\n",
       "    <tr>\n",
       "      <th>1</th>\n",
       "      <td>1</td>\n",
       "      <td>29</td>\n",
       "      <td>3.5</td>\n",
       "      <td>1112484676</td>\n",
       "    </tr>\n",
       "    <tr>\n",
       "      <th>2</th>\n",
       "      <td>1</td>\n",
       "      <td>32</td>\n",
       "      <td>3.5</td>\n",
       "      <td>1112484819</td>\n",
       "    </tr>\n",
       "    <tr>\n",
       "      <th>3</th>\n",
       "      <td>1</td>\n",
       "      <td>47</td>\n",
       "      <td>3.5</td>\n",
       "      <td>1112484727</td>\n",
       "    </tr>\n",
       "    <tr>\n",
       "      <th>4</th>\n",
       "      <td>1</td>\n",
       "      <td>50</td>\n",
       "      <td>3.5</td>\n",
       "      <td>1112484580</td>\n",
       "    </tr>\n",
       "    <tr>\n",
       "      <th>...</th>\n",
       "      <td>...</td>\n",
       "      <td>...</td>\n",
       "      <td>...</td>\n",
       "      <td>...</td>\n",
       "    </tr>\n",
       "    <tr>\n",
       "      <th>20000258</th>\n",
       "      <td>138493</td>\n",
       "      <td>68954</td>\n",
       "      <td>4.5</td>\n",
       "      <td>1258126920</td>\n",
       "    </tr>\n",
       "    <tr>\n",
       "      <th>20000259</th>\n",
       "      <td>138493</td>\n",
       "      <td>69526</td>\n",
       "      <td>4.5</td>\n",
       "      <td>1259865108</td>\n",
       "    </tr>\n",
       "    <tr>\n",
       "      <th>20000260</th>\n",
       "      <td>138493</td>\n",
       "      <td>69644</td>\n",
       "      <td>3.0</td>\n",
       "      <td>1260209457</td>\n",
       "    </tr>\n",
       "    <tr>\n",
       "      <th>20000261</th>\n",
       "      <td>138493</td>\n",
       "      <td>70286</td>\n",
       "      <td>5.0</td>\n",
       "      <td>1258126944</td>\n",
       "    </tr>\n",
       "    <tr>\n",
       "      <th>20000262</th>\n",
       "      <td>138493</td>\n",
       "      <td>71619</td>\n",
       "      <td>2.5</td>\n",
       "      <td>1255811136</td>\n",
       "    </tr>\n",
       "  </tbody>\n",
       "</table>\n",
       "<p>20000263 rows × 4 columns</p>\n",
       "</div>"
      ],
      "text/plain": [
       "          userId  movieId  rating   timestamp\n",
       "0              1        2     3.5  1112486027\n",
       "1              1       29     3.5  1112484676\n",
       "2              1       32     3.5  1112484819\n",
       "3              1       47     3.5  1112484727\n",
       "4              1       50     3.5  1112484580\n",
       "...          ...      ...     ...         ...\n",
       "20000258  138493    68954     4.5  1258126920\n",
       "20000259  138493    69526     4.5  1259865108\n",
       "20000260  138493    69644     3.0  1260209457\n",
       "20000261  138493    70286     5.0  1258126944\n",
       "20000262  138493    71619     2.5  1255811136\n",
       "\n",
       "[20000263 rows x 4 columns]"
      ]
     },
     "execution_count": 34,
     "metadata": {},
     "output_type": "execute_result"
    }
   ],
   "source": [
    "ratings"
   ]
  },
  {
   "cell_type": "code",
   "execution_count": 35,
   "metadata": {},
   "outputs": [
    {
     "data": {
      "text/html": [
       "<div>\n",
       "<style scoped>\n",
       "    .dataframe tbody tr th:only-of-type {\n",
       "        vertical-align: middle;\n",
       "    }\n",
       "\n",
       "    .dataframe tbody tr th {\n",
       "        vertical-align: top;\n",
       "    }\n",
       "\n",
       "    .dataframe thead th {\n",
       "        text-align: right;\n",
       "    }\n",
       "</style>\n",
       "<table border=\"1\" class=\"dataframe\">\n",
       "  <thead>\n",
       "    <tr style=\"text-align: right;\">\n",
       "      <th></th>\n",
       "      <th>movieId</th>\n",
       "      <th>title</th>\n",
       "      <th>genres</th>\n",
       "      <th>tag</th>\n",
       "      <th>metadata</th>\n",
       "    </tr>\n",
       "  </thead>\n",
       "  <tbody>\n",
       "    <tr>\n",
       "      <th>0</th>\n",
       "      <td>1</td>\n",
       "      <td>Toy Story (1995)</td>\n",
       "      <td>Adventure|Animation|Children|Comedy|Fantasy</td>\n",
       "      <td>Watched computer animation Disney animated fea...</td>\n",
       "      <td>Toy Story (1995) Watched computer animation Di...</td>\n",
       "    </tr>\n",
       "    <tr>\n",
       "      <th>1</th>\n",
       "      <td>2</td>\n",
       "      <td>Jumanji (1995)</td>\n",
       "      <td>Adventure|Children|Fantasy</td>\n",
       "      <td>time travel adapted from:book board game child...</td>\n",
       "      <td>Jumanji (1995) time travel adapted from:book b...</td>\n",
       "    </tr>\n",
       "    <tr>\n",
       "      <th>2</th>\n",
       "      <td>3</td>\n",
       "      <td>Grumpier Old Men (1995)</td>\n",
       "      <td>Comedy|Romance</td>\n",
       "      <td>old people that is actually funny sequel fever...</td>\n",
       "      <td>Grumpier Old Men (1995) old people that is act...</td>\n",
       "    </tr>\n",
       "    <tr>\n",
       "      <th>3</th>\n",
       "      <td>4</td>\n",
       "      <td>Waiting to Exhale (1995)</td>\n",
       "      <td>Comedy|Drama|Romance</td>\n",
       "      <td>chick flick revenge characters chick flick cha...</td>\n",
       "      <td>Waiting to Exhale (1995) chick flick revenge c...</td>\n",
       "    </tr>\n",
       "    <tr>\n",
       "      <th>4</th>\n",
       "      <td>5</td>\n",
       "      <td>Father of the Bride Part II (1995)</td>\n",
       "      <td>Comedy</td>\n",
       "      <td>Diane Keaton family sequel Steve Martin weddin...</td>\n",
       "      <td>Father of the Bride Part II (1995) Diane Keato...</td>\n",
       "    </tr>\n",
       "    <tr>\n",
       "      <th>...</th>\n",
       "      <td>...</td>\n",
       "      <td>...</td>\n",
       "      <td>...</td>\n",
       "      <td>...</td>\n",
       "      <td>...</td>\n",
       "    </tr>\n",
       "    <tr>\n",
       "      <th>27273</th>\n",
       "      <td>131254</td>\n",
       "      <td>Kein Bund für's Leben (2007)</td>\n",
       "      <td>Comedy</td>\n",
       "      <td>NaN</td>\n",
       "      <td>Kein Bund für's Leben (2007)</td>\n",
       "    </tr>\n",
       "    <tr>\n",
       "      <th>27274</th>\n",
       "      <td>131256</td>\n",
       "      <td>Feuer, Eis &amp; Dosenbier (2002)</td>\n",
       "      <td>Comedy</td>\n",
       "      <td>NaN</td>\n",
       "      <td>Feuer, Eis &amp; Dosenbier (2002)</td>\n",
       "    </tr>\n",
       "    <tr>\n",
       "      <th>27275</th>\n",
       "      <td>131258</td>\n",
       "      <td>The Pirates (2014)</td>\n",
       "      <td>Adventure</td>\n",
       "      <td>bandits Korea mutiny pirates whale</td>\n",
       "      <td>The Pirates (2014) bandits Korea mutiny pirate...</td>\n",
       "    </tr>\n",
       "    <tr>\n",
       "      <th>27276</th>\n",
       "      <td>131260</td>\n",
       "      <td>Rentun Ruusu (2001)</td>\n",
       "      <td>(no genres listed)</td>\n",
       "      <td>NaN</td>\n",
       "      <td>Rentun Ruusu (2001)</td>\n",
       "    </tr>\n",
       "    <tr>\n",
       "      <th>27277</th>\n",
       "      <td>131262</td>\n",
       "      <td>Innocence (2014)</td>\n",
       "      <td>Adventure|Fantasy|Horror</td>\n",
       "      <td>NaN</td>\n",
       "      <td>Innocence (2014)</td>\n",
       "    </tr>\n",
       "  </tbody>\n",
       "</table>\n",
       "<p>27278 rows × 5 columns</p>\n",
       "</div>"
      ],
      "text/plain": [
       "       movieId                               title  \\\n",
       "0            1                    Toy Story (1995)   \n",
       "1            2                      Jumanji (1995)   \n",
       "2            3             Grumpier Old Men (1995)   \n",
       "3            4            Waiting to Exhale (1995)   \n",
       "4            5  Father of the Bride Part II (1995)   \n",
       "...        ...                                 ...   \n",
       "27273   131254        Kein Bund für's Leben (2007)   \n",
       "27274   131256       Feuer, Eis & Dosenbier (2002)   \n",
       "27275   131258                  The Pirates (2014)   \n",
       "27276   131260                 Rentun Ruusu (2001)   \n",
       "27277   131262                    Innocence (2014)   \n",
       "\n",
       "                                            genres  \\\n",
       "0      Adventure|Animation|Children|Comedy|Fantasy   \n",
       "1                       Adventure|Children|Fantasy   \n",
       "2                                   Comedy|Romance   \n",
       "3                             Comedy|Drama|Romance   \n",
       "4                                           Comedy   \n",
       "...                                            ...   \n",
       "27273                                       Comedy   \n",
       "27274                                       Comedy   \n",
       "27275                                    Adventure   \n",
       "27276                           (no genres listed)   \n",
       "27277                     Adventure|Fantasy|Horror   \n",
       "\n",
       "                                                     tag  \\\n",
       "0      Watched computer animation Disney animated fea...   \n",
       "1      time travel adapted from:book board game child...   \n",
       "2      old people that is actually funny sequel fever...   \n",
       "3      chick flick revenge characters chick flick cha...   \n",
       "4      Diane Keaton family sequel Steve Martin weddin...   \n",
       "...                                                  ...   \n",
       "27273                                                NaN   \n",
       "27274                                                NaN   \n",
       "27275                 bandits Korea mutiny pirates whale   \n",
       "27276                                                NaN   \n",
       "27277                                                NaN   \n",
       "\n",
       "                                                metadata  \n",
       "0      Toy Story (1995) Watched computer animation Di...  \n",
       "1      Jumanji (1995) time travel adapted from:book b...  \n",
       "2      Grumpier Old Men (1995) old people that is act...  \n",
       "3      Waiting to Exhale (1995) chick flick revenge c...  \n",
       "4      Father of the Bride Part II (1995) Diane Keato...  \n",
       "...                                                  ...  \n",
       "27273                      Kein Bund für's Leben (2007)   \n",
       "27274                     Feuer, Eis & Dosenbier (2002)   \n",
       "27275  The Pirates (2014) bandits Korea mutiny pirate...  \n",
       "27276                               Rentun Ruusu (2001)   \n",
       "27277                                  Innocence (2014)   \n",
       "\n",
       "[27278 rows x 5 columns]"
      ]
     },
     "execution_count": 35,
     "metadata": {},
     "output_type": "execute_result"
    }
   ],
   "source": [
    "movies_metadata"
   ]
  },
  {
   "cell_type": "code",
   "execution_count": 36,
   "metadata": {},
   "outputs": [],
   "source": [
    "Mapping_file = dict(zip(movies_metadata.title.tolist(), movies_metadata.movieId.tolist()))"
   ]
  },
  {
   "cell_type": "code",
   "execution_count": 37,
   "metadata": {},
   "outputs": [
    {
     "name": "stdout",
     "output_type": "stream",
     "text": [
      "RMSE: 0.7893\n"
     ]
    },
    {
     "data": {
      "text/plain": [
       "0.7893479618588811"
      ]
     },
     "execution_count": 37,
     "metadata": {},
     "output_type": "execute_result"
    }
   ],
   "source": [
    "# instantiate a reader and read in our rating data\n",
    "reader = Reader(rating_scale=(1, 5))\n",
    "data = Dataset.load_from_df(ratings[['userId','movieId','rating']], reader)\n",
    "\n",
    "# train SVD on 75% of known rates\n",
    "trainset, testset = train_test_split(data, test_size=.25)\n",
    "algorithm = SVD()\n",
    "algorithm.fit(trainset)\n",
    "predictions = algorithm.test(testset)\n",
    "\n",
    "# check the accuracy using Root Mean Square Error\n",
    "accuracy.rmse(predictions)"
   ]
  },
  {
   "cell_type": "code",
   "execution_count": 38,
   "metadata": {},
   "outputs": [],
   "source": [
    "def pred_user_rating(ui):\n",
    "    if ui in ratings.userId.unique():\n",
    "        ui_list = ratings[ratings.userId == ui].movieId.tolist()\n",
    "        d = {k: v for k,v in Mapping_file.items() if not v in ui_list}        \n",
    "        predictedL = []\n",
    "        for i, j in d.items():     \n",
    "            predicted = algorithm.predict(ui, j)\n",
    "            predictedL.append((i, predicted[3])) \n",
    "        pdf = pd.DataFrame(predictedL, columns = ['movies', 'ratings'])\n",
    "        pdf.sort_values('ratings', ascending=False, inplace=True)  \n",
    "        pdf.set_index('movies', inplace=True)    \n",
    "        return pdf.head(10)        \n",
    "    else:\n",
    "        print(\"User Id does not exist in the list!\")\n",
    "        return None"
   ]
  },
  {
   "cell_type": "code",
   "execution_count": 40,
   "metadata": {},
   "outputs": [
    {
     "data": {
      "text/html": [
       "<div>\n",
       "<style scoped>\n",
       "    .dataframe tbody tr th:only-of-type {\n",
       "        vertical-align: middle;\n",
       "    }\n",
       "\n",
       "    .dataframe tbody tr th {\n",
       "        vertical-align: top;\n",
       "    }\n",
       "\n",
       "    .dataframe thead th {\n",
       "        text-align: right;\n",
       "    }\n",
       "</style>\n",
       "<table border=\"1\" class=\"dataframe\">\n",
       "  <thead>\n",
       "    <tr style=\"text-align: right;\">\n",
       "      <th></th>\n",
       "      <th>ratings</th>\n",
       "    </tr>\n",
       "    <tr>\n",
       "      <th>movies</th>\n",
       "      <th></th>\n",
       "    </tr>\n",
       "  </thead>\n",
       "  <tbody>\n",
       "    <tr>\n",
       "      <th>Life Is Beautiful (La Vita è bella) (1997)</th>\n",
       "      <td>5.000000</td>\n",
       "    </tr>\n",
       "    <tr>\n",
       "      <th>Forrest Gump (1994)</th>\n",
       "      <td>5.000000</td>\n",
       "    </tr>\n",
       "    <tr>\n",
       "      <th>Titanic (1997)</th>\n",
       "      <td>4.970525</td>\n",
       "    </tr>\n",
       "    <tr>\n",
       "      <th>3 Idiots (2009)</th>\n",
       "      <td>4.900148</td>\n",
       "    </tr>\n",
       "    <tr>\n",
       "      <th>Sixth Sense, The (1999)</th>\n",
       "      <td>4.887490</td>\n",
       "    </tr>\n",
       "    <tr>\n",
       "      <th>Sound of Music, The (1965)</th>\n",
       "      <td>4.875169</td>\n",
       "    </tr>\n",
       "    <tr>\n",
       "      <th>Braveheart (1995)</th>\n",
       "      <td>4.830405</td>\n",
       "    </tr>\n",
       "    <tr>\n",
       "      <th>Good Will Hunting (1997)</th>\n",
       "      <td>4.827936</td>\n",
       "    </tr>\n",
       "    <tr>\n",
       "      <th>Anne of Green Gables: The Sequel (a.k.a. Anne of Avonlea) (1987)</th>\n",
       "      <td>4.800826</td>\n",
       "    </tr>\n",
       "    <tr>\n",
       "      <th>Notebook, The (2004)</th>\n",
       "      <td>4.800325</td>\n",
       "    </tr>\n",
       "  </tbody>\n",
       "</table>\n",
       "</div>"
      ],
      "text/plain": [
       "                                                     ratings\n",
       "movies                                                      \n",
       "Life Is Beautiful (La Vita è bella) (1997)          5.000000\n",
       "Forrest Gump (1994)                                 5.000000\n",
       "Titanic (1997)                                      4.970525\n",
       "3 Idiots (2009)                                     4.900148\n",
       "Sixth Sense, The (1999)                             4.887490\n",
       "Sound of Music, The (1965)                          4.875169\n",
       "Braveheart (1995)                                   4.830405\n",
       "Good Will Hunting (1997)                            4.827936\n",
       "Anne of Green Gables: The Sequel (a.k.a. Anne o...  4.800826\n",
       "Notebook, The (2004)                                4.800325"
      ]
     },
     "execution_count": 40,
     "metadata": {},
     "output_type": "execute_result"
    }
   ],
   "source": [
    "user_id = 19\n",
    "pred_user_rating(user_id)"
   ]
  }
 ],
 "metadata": {
  "kernelspec": {
   "display_name": "news-modeling-env",
   "language": "python",
   "name": "python3"
  },
  "language_info": {
   "codemirror_mode": {
    "name": "ipython",
    "version": 3
   },
   "file_extension": ".py",
   "mimetype": "text/x-python",
   "name": "python",
   "nbconvert_exporter": "python",
   "pygments_lexer": "ipython3",
   "version": "3.9.21"
  }
 },
 "nbformat": 4,
 "nbformat_minor": 2
}
